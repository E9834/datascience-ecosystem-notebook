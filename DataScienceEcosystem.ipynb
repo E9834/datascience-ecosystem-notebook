{
 "cells": [
  {
   "cell_type": "markdown",
   "id": "94fefa23-bceb-44ca-8ef0-9463f71b2b31",
   "metadata": {},
   "source": [
    "# Data Science Tools and Ecosystem"
   ]
  },
  {
   "cell_type": "markdown",
   "id": "75d093e9-5a1f-4ed7-944d-a0f770c5c0e6",
   "metadata": {},
   "source": [
    "In this notebook, Data Science Tools and Ecosystem are summarized."
   ]
  },
  {
   "cell_type": "markdown",
   "id": "67353f35-ff4f-49a5-99e0-b43ffc57a465",
   "metadata": {},
   "source": [
    "**Objectives:**\n",
    "\n",
    "- List popular languages for Data Science\n",
    "- List commonly used libraries for Data Science\n",
    "- Create tables using Markdown\n",
    "- Perform arithmetic operations in Python\n",
    "- Share notebook through GitHub"
   ]
  },
  {
   "cell_type": "markdown",
   "id": "cd740638-fe9c-45ae-937e-e90b2225b7ca",
   "metadata": {},
   "source": [
    "Some of the popular languages that Data Scientists use are:\n",
    "1. Python\n",
    "2. R\n",
    "3. SQL"
   ]
  },
  {
   "cell_type": "markdown",
   "id": "2b7397d8-977c-492a-940a-b0dd186a59fe",
   "metadata": {},
   "source": [
    "Some of the commonly used libraries used by Data Scientists include:\n",
    "1. Pandas\n",
    "2. NumPy\n",
    "3. Matplotlib"
   ]
  },
  {
   "cell_type": "markdown",
   "id": "2d4e1cc5-7462-4d0f-b826-3354a8e87c8b",
   "metadata": {},
   "source": [
    "| Data Science Tools |\n",
    "|---------------------|\n",
    "| Jupyter Notebook    |\n",
    "| RStudio             |\n",
    "| Apache Spark        |\n"
   ]
  },
  {
   "cell_type": "markdown",
   "id": "d7140d17-01fc-420f-b688-ad0e4b7901c1",
   "metadata": {},
   "source": [
    "### Below are a few examples of evaluating arithmetic expressions in Python"
   ]
  },
  {
   "cell_type": "code",
   "execution_count": 1,
   "id": "db6bd7cb-d498-4590-85ed-2dddc94b0e00",
   "metadata": {},
   "outputs": [
    {
     "data": {
      "text/plain": [
       "17"
      ]
     },
     "execution_count": 1,
     "metadata": {},
     "output_type": "execute_result"
    }
   ],
   "source": [
    "# This is a simple arithmetic expression to multiply then add integers\n",
    "(3*4)+5"
   ]
  },
  {
   "cell_type": "code",
   "execution_count": 2,
   "id": "0109b8a1-1b6c-439b-8cfd-3862685b3793",
   "metadata": {},
   "outputs": [
    {
     "data": {
      "text/plain": [
       "3.3333333333333335"
      ]
     },
     "execution_count": 2,
     "metadata": {},
     "output_type": "execute_result"
    }
   ],
   "source": [
    "# This will convert 200 minutes to hours by diving by 60\n",
    "200/60"
   ]
  },
  {
   "cell_type": "markdown",
   "id": "aa3f4ca9-637e-4e26-a2e2-ba74cb79cf5c",
   "metadata": {},
   "source": [
    "## Author\n",
    "Ester Parolari"
   ]
  },
  {
   "cell_type": "code",
   "execution_count": null,
   "id": "5d6a2843-503c-446a-a49c-b11d45f137fb",
   "metadata": {},
   "outputs": [],
   "source": []
  }
 ],
 "metadata": {
  "kernelspec": {
   "display_name": "Python 3 (ipykernel)",
   "language": "python",
   "name": "python3"
  },
  "language_info": {
   "codemirror_mode": {
    "name": "ipython",
    "version": 3
   },
   "file_extension": ".py",
   "mimetype": "text/x-python",
   "name": "python",
   "nbconvert_exporter": "python",
   "pygments_lexer": "ipython3",
   "version": "3.13.5"
  }
 },
 "nbformat": 4,
 "nbformat_minor": 5
}
